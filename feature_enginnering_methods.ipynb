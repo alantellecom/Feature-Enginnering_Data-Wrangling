{
  "nbformat": 4,
  "nbformat_minor": 5,
  "metadata": {
    "kernelspec": {
      "display_name": "Python 3.7 (XPython)",
      "language": "python",
      "name": "xpython"
    },
    "language_info": {
      "file_extension": ".py",
      "mimetype": "text/x-python",
      "name": "python",
      "version": "3.7.9"
    },
    "colab": {
      "name": "Feature-Selector_ Pre-Proc.ipynb",
      "provenance": [],
      "collapsed_sections": [
        "acquired-slide",
        "C9w2tSGlzvEc",
        "stuffed-career",
        "kBF-BCTkbesZ",
        "finished-savannah",
        "uLInTiQJdAW8",
        "systematic-irish",
        "LxXfdK3Z63Wu"
      ]
    }
  },
  "cells": [
    {
      "cell_type": "code",
      "metadata": {
        "id": "english-fairy"
      },
      "source": [
        "import pandas as pd\n",
        "import matplotlib.pyplot as plt\n",
        "import seaborn as sns\n",
        "import numpy as np\n",
        "from sklearn.feature_selection import SelectKBest\n",
        "from sklearn.feature_selection import chi2\n",
        "from sklearn.preprocessing import OrdinalEncoder\n",
        "from sklearn.feature_selection import mutual_info_classif\n",
        "from sklearn.feature_selection import f_regression\n",
        "from sklearn.feature_selection import f_classif\n",
        "from itertools import combinations"
      ],
      "id": "english-fairy",
      "execution_count": null,
      "outputs": []
    },
    {
      "cell_type": "markdown",
      "metadata": {
        "id": "acquired-slide"
      },
      "source": [
        "## Uma visão geral da features, valores not null, tipos e oque elas representam.\r\n",
        "\r\n",
        "\r\n",
        "\r\n",
        "*   Verificar se medidas estão contidas em algum range e se existem  max e min fora deste range (outliers)\r\n",
        "*   Entender a natureza das features/target\r\n",
        "*   Verificar se tipos estão corretos.\r\n",
        "\r\n",
        "\r\n",
        "\r\n",
        "\r\n",
        "\r\n"
      ],
      "id": "acquired-slide"
    },
    {
      "cell_type": "code",
      "metadata": {
        "id": "confident-ceramic"
      },
      "source": [
        "df.info()\n",
        "df.describe() "
      ],
      "id": "confident-ceramic",
      "execution_count": null,
      "outputs": []
    },
    {
      "cell_type": "markdown",
      "metadata": {
        "id": "C9w2tSGlzvEc"
      },
      "source": [
        "## Renomeando Colunas"
      ],
      "id": "C9w2tSGlzvEc"
    },
    {
      "cell_type": "code",
      "metadata": {
        "id": "MBsMcr7iz2FJ"
      },
      "source": [
        "df.columns= ['genero','popularidade','rate','tempo']"
      ],
      "id": "MBsMcr7iz2FJ",
      "execution_count": null,
      "outputs": []
    },
    {
      "cell_type": "markdown",
      "metadata": {
        "id": "kBF-BCTkbesZ"
      },
      "source": [
        "## Removendo features por inferência empírica (colunas com relevância nula para o modelo)"
      ],
      "id": "kBF-BCTkbesZ"
    },
    {
      "cell_type": "code",
      "metadata": {
        "id": "eEIDr9XF1TxL"
      },
      "source": [
        "df_v2 = df[['D:Hitchcock','prds','prc','st']] # nome do filme"
      ],
      "id": "eEIDr9XF1TxL",
      "execution_count": null,
      "outputs": []
    },
    {
      "cell_type": "markdown",
      "metadata": {
        "id": "finished-savannah"
      },
      "source": [
        "## Eliminar registros duplicados"
      ],
      "id": "finished-savannah"
    },
    {
      "cell_type": "code",
      "metadata": {
        "id": "surface-familiar"
      },
      "source": [
        "duplicados = df[df.duplicated(keep='first')]\n",
        "print(duplicados)"
      ],
      "id": "surface-familiar",
      "execution_count": null,
      "outputs": []
    },
    {
      "cell_type": "code",
      "metadata": {
        "id": "lined-rebel"
      },
      "source": [
        "df.drop_duplicates(keep='first', inplace=True) "
      ],
      "id": "lined-rebel",
      "execution_count": null,
      "outputs": []
    },
    {
      "cell_type": "markdown",
      "metadata": {
        "id": "8qps0YYdbHJZ"
      },
      "source": [
        "## Removendo inconsistência de dados categóricos ou atribuindo NaN a um dado irrelevante"
      ],
      "id": "8qps0YYdbHJZ"
    },
    {
      "cell_type": "code",
      "metadata": {
        "id": "0K1FChR0bLlA"
      },
      "source": [
        "def remove_incoherence(DataFrame,expression, replace_val, columns=[]):\r\n",
        "  if len(columns)==0:\r\n",
        "    columns = DataFrame.columns\r\n",
        "  \r\n",
        "  DataFrame_aux=DataFrame.copy()\r\n",
        "  \r\n",
        "  if str(replace_val) == str(np.nan):\r\n",
        "    DataFrame_aux=DataFrame.replace(expression, replace_val, regex=True) # não usar str.replace pois não aceita np.nan\r\n",
        "    return DataFrame_aux\r\n",
        "  else: \r\n",
        "    for col in columns:\r\n",
        "      while (True): # quando trabalhamos com grupos no regex, ele não é capaz de substituir todos os grupos, então é necessario iterar a cada nova substituição\r\n",
        "        DataFrame_aux[col]=DataFrame[col].str.replace(expression, replace_val, regex=True)\r\n",
        "        #warnings.filterwarnings('ignore','UserWarning') # para evitar warning quando str.contains chamar expressions contendo groups que não serão utilizados\r\n",
        "        num_matchs = len(DataFrame_aux[DataFrame_aux[col].str.contains(expression, na=False)])#  verifica se regex funcionou, caso sim retorna 0, senão retorna o numero de matchs\r\n",
        "        DataFrame = DataFrame_aux\r\n",
        "        if num_matchs == 0:\r\n",
        "            break\r\n",
        "    return DataFrame_aux"
      ],
      "id": "0K1FChR0bLlA",
      "execution_count": null,
      "outputs": []
    },
    {
      "cell_type": "markdown",
      "metadata": {
        "id": "uLInTiQJdAW8"
      },
      "source": [
        "## Drop de registros ou preenchimento 'fillna'"
      ],
      "id": "uLInTiQJdAW8"
    },
    {
      "cell_type": "code",
      "metadata": {
        "id": "7KTgXjAlc-zh"
      },
      "source": [
        "df.dropna(inplace=True)\r\n",
        "df[column].fillna(df[column].mean(), inplace=True)"
      ],
      "id": "7KTgXjAlc-zh",
      "execution_count": null,
      "outputs": []
    },
    {
      "cell_type": "markdown",
      "metadata": {
        "id": "uNP1XW_XPJRn"
      },
      "source": [
        "## Eliminando registros com dados categóricos de baixa frequencia no target (<= a k% do label com maior frequência), quando não é possível obter mais dados. (Dados desbalanceados)"
      ],
      "id": "uNP1XW_XPJRn"
    },
    {
      "cell_type": "code",
      "metadata": {
        "id": "DUQiVMcuPZOn"
      },
      "source": [
        "def remove_low_freq(DataFrame, target_name, threshold=0.25):\r\n",
        "  class_freq = (DataFrame[target_name].value_counts())\r\n",
        "  cut_low_freq = DataFrame[DataFrame[target_name].isin(class_freq[class_freq >= threshold*class_freq.max()].index)]\r\n",
        "  return cut_low_freq"
      ],
      "id": "DUQiVMcuPZOn",
      "execution_count": null,
      "outputs": []
    },
    {
      "cell_type": "markdown",
      "metadata": {
        "id": "systematic-irish"
      },
      "source": [
        "## Tratando Outliers de dados numéricos\n",
        "\n",
        "![boxplot.PNG](data:image/png;base64,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)"
      ],
      "id": "systematic-irish"
    },
    {
      "cell_type": "markdown",
      "metadata": {
        "id": "fatal-roots"
      },
      "source": [
        "#### É possível visualizar a sequencia de boxsplots para identificar outliers de um dado numerico agrupado por  categorias de uma feature (Ex: genders)"
      ],
      "id": "fatal-roots"
    },
    {
      "cell_type": "code",
      "metadata": {
        "id": "arranged-diana"
      },
      "source": [
        "sns.boxplot(x='genders',y='score', data=diamonds)\n",
        "plt.show()"
      ],
      "id": "arranged-diana",
      "execution_count": null,
      "outputs": []
    },
    {
      "cell_type": "code",
      "metadata": {
        "id": "egyptian-praise"
      },
      "source": [
        "def exclui_outliers(DataFrame, col_name):\n",
        "  intervalo = 2.7*DataFrame[col_name].std()\n",
        "  media = DataFrame[col_name].mean()\n",
        "  DataFrame.loc[df[col_name] < (media - intervalo), col_name] = np.nan\n",
        "  DataFrame.loc[df[col_name] > (media + intervalo), col_name] = np.nan"
      ],
      "id": "egyptian-praise",
      "execution_count": null,
      "outputs": []
    },
    {
      "cell_type": "markdown",
      "metadata": {
        "id": "LxXfdK3Z63Wu"
      },
      "source": [
        "## Resetando Index"
      ],
      "id": "LxXfdK3Z63Wu"
    },
    {
      "cell_type": "code",
      "metadata": {
        "id": "fv7m84ki61uQ"
      },
      "source": [
        "df.reset_index(drop=True)"
      ],
      "id": "fv7m84ki61uQ",
      "execution_count": null,
      "outputs": []
    },
    {
      "cell_type": "markdown",
      "metadata": {
        "id": "NK5W5x9uOppD"
      },
      "source": [
        "## Verificando resultado da limpeza"
      ],
      "id": "NK5W5x9uOppD"
    },
    {
      "cell_type": "code",
      "metadata": {
        "id": "BGzm0oBxOx4G"
      },
      "source": [
        "def count_labels(Dataframe,categorical_columns):\r\n",
        "  for col in categorical_columns:\r\n",
        "    print('coluna: {0} {1}'.format(col, len(Dataframe[col].value_counts())))"
      ],
      "id": "BGzm0oBxOx4G",
      "execution_count": null,
      "outputs": []
    },
    {
      "cell_type": "code",
      "metadata": {
        "id": "onaRzBEkOwK4"
      },
      "source": [
        "count_labels(df,balance_produtor.columns)# para dados categóricos"
      ],
      "id": "onaRzBEkOwK4",
      "execution_count": null,
      "outputs": []
    },
    {
      "cell_type": "code",
      "metadata": {
        "id": "M9n9amh8PGLo"
      },
      "source": [
        "balance_produtor.info()"
      ],
      "id": "M9n9amh8PGLo",
      "execution_count": null,
      "outputs": []
    },
    {
      "cell_type": "code",
      "metadata": {
        "id": "wfj909R6O1j9"
      },
      "source": [
        "balance_produtor.summary()"
      ],
      "id": "wfj909R6O1j9",
      "execution_count": null,
      "outputs": []
    },
    {
      "cell_type": "markdown",
      "metadata": {
        "id": "stuffed-career"
      },
      "source": [
        "## Ajustar os tipos"
      ],
      "id": "stuffed-career"
    },
    {
      "cell_type": "code",
      "metadata": {
        "collapsed": true,
        "jupyter": {
          "outputs_hidden": true
        },
        "id": "convenient-germany"
      },
      "source": [
        "numerical_cols = ['song_duration_ms', 'acousticness',]\n",
        " \n",
        "def to_type(DataFrame, columns, type):\n",
        "  DataFrame_aux = DataFrame.copy()\n",
        "  for col in columns:\n",
        "      DataFrame_aux[col]=DataFrame_aux[col].astype(type)\n",
        "  return DataFrame_aux\n",
        " \n",
        "to_type(df, numerical_cols, 'float')"
      ],
      "id": "convenient-germany",
      "execution_count": null,
      "outputs": []
    },
    {
      "cell_type": "markdown",
      "metadata": {
        "id": "lE_TbFSqJsw0"
      },
      "source": [
        "## Feature selector por selectKbest"
      ],
      "id": "lE_TbFSqJsw0"
    },
    {
      "cell_type": "code",
      "metadata": {
        "id": "cOPgRp7BRNeo"
      },
      "source": [
        "def feature_selection(Dataset, features, target ,in_out, method='na'): \r\n",
        "  fs_score =[]\r\n",
        "  oe = OrdinalEncoder()\r\n",
        "\r\n",
        "  X = np.array(Dataset.loc[:,features])\r\n",
        "  oe.fit(X)\r\n",
        "  X_enc = oe.transform(X)\r\n",
        "\r\n",
        "  y = np.array(Dataset.loc[:,target])\r\n",
        "  oe.fit(y)\r\n",
        "  y_enc = oe.transform(y)\r\n",
        "  \r\n",
        "  if in_out == 'cat_cat': \r\n",
        "    if method == 'chi2':\r\n",
        "      fs = SelectKBest(score_func=chi2, k='all') \r\n",
        "    else:\r\n",
        "      fs = SelectKBest(score_func=mutual_info_classif, k='all')\r\n",
        "    fs.fit(X_enc, y_enc)\r\n",
        "    fs_score = fs.scores_\r\n",
        "  elif in_out == 'num_num':\r\n",
        "    fs = SelectKBest(score_func=f_regression, k='all')\r\n",
        "    fs.fit(X, y)\r\n",
        "    fs_score = fs.scores_\r\n",
        "  elif in_out == 'num_cat':\r\n",
        "    fs = SelectKBest(score_func=f_classif, k='all')\r\n",
        "    fs.fit(X, y_enc)\r\n",
        "    fs_score = fs.scores_\r\n",
        "  elif in_out == 'cat_num':\r\n",
        "    fs = SelectKBest(score_func=f_classif, k='all')\r\n",
        "    fs.fit(X_enc, y)\r\n",
        "    fs_score = fs.scores_\r\n",
        "  else:\r\n",
        "    fs_score=[]\r\n",
        "\r\n",
        "  return fs_score"
      ],
      "id": "cOPgRp7BRNeo",
      "execution_count": null,
      "outputs": []
    },
    {
      "cell_type": "markdown",
      "metadata": {
        "id": "eQYlBS4zJ9Qz"
      },
      "source": [
        "### Features categórica x Target categórico (chia2, mutual_info_classif)"
      ],
      "id": "eQYlBS4zJ9Qz"
    },
    {
      "cell_type": "code",
      "metadata": {
        "id": "H319yOWeKG0R"
      },
      "source": [
        "features = ['gender','director']\r\n",
        "target = ['studio']\r\n",
        "\r\n",
        "fs_scores = feature_selec_cat_cat(df,features , target, in_out='cat_cat') # method: chi2, mutual_info_classif\r\n",
        "\r\n",
        "for i in range(len(fs_scores)):\r\n",
        "\tprint('Feature %s: %f' % (features[i], fs_scores[i]))"
      ],
      "id": "H319yOWeKG0R",
      "execution_count": null,
      "outputs": []
    },
    {
      "cell_type": "markdown",
      "metadata": {
        "id": "hUoebdAnMLb8"
      },
      "source": [
        "### Features numéricas x Target numérico (pearson's correlation)"
      ],
      "id": "hUoebdAnMLb8"
    },
    {
      "cell_type": "code",
      "metadata": {
        "id": "lo03DCceR1Av"
      },
      "source": [
        "features = ['time','year']\r\n",
        "target = ['score']\r\n",
        "\r\n",
        "fs_scores = feature_selec_cat_cat(df,features, target,in_out='num_num')\r\n",
        "\r\n",
        "for i in range(len(fs_scores)):\r\n",
        "\tprint('Feature %s: %f' % (features[i], fs_scores[i]))"
      ],
      "id": "lo03DCceR1Av",
      "execution_count": null,
      "outputs": []
    },
    {
      "cell_type": "markdown",
      "metadata": {
        "id": "DoIWcBuCSTm9"
      },
      "source": [
        "### Features numéricas x Target categórico (ANOVA F)"
      ],
      "id": "DoIWcBuCSTm9"
    },
    {
      "cell_type": "code",
      "metadata": {
        "id": "ZlpTBDtNSRzu"
      },
      "source": [
        "features = ['time','year']\r\n",
        "target = ['score']\r\n",
        "\r\n",
        "fs_scores = feature_selec_cat_cat(df,features, target,in_out='num_cat')\r\n",
        "\r\n",
        "for i in range(len(fs_scores)):\r\n",
        "\tprint('Feature %s: %f' % (features[i], fs_scores[i]))"
      ],
      "id": "ZlpTBDtNSRzu",
      "execution_count": null,
      "outputs": []
    },
    {
      "cell_type": "markdown",
      "metadata": {
        "id": "gJb3vhGsVUSm"
      },
      "source": [
        "### Features categóricas x Target numérico (ANOVA F)"
      ],
      "id": "gJb3vhGsVUSm"
    },
    {
      "cell_type": "code",
      "metadata": {
        "id": "FN6qiPusVZMy"
      },
      "source": [
        "features = ['singer','gender']\r\n",
        "target = ['score']\r\n",
        "\r\n",
        "fs_scores = feature_selec_cat_cat(df,features, target,in_out='cat_num')\r\n",
        "\r\n",
        "for i in range(len(fs_scores)):\r\n",
        "\tprint('Feature %s: %f' % (features[i], fs_scores[i]))"
      ],
      "id": "FN6qiPusVZMy",
      "execution_count": null,
      "outputs": []
    },
    {
      "cell_type": "markdown",
      "metadata": {
        "id": "08JZ7La2vQ_O"
      },
      "source": [
        "## Visualizando correlação graficamente (feature_n x feature_m ~ target)"
      ],
      "id": "08JZ7La2vQ_O"
    },
    {
      "cell_type": "code",
      "metadata": {
        "id": "WbhIkTeYJSTc"
      },
      "source": [
        "def subplot_strip(Dataset,features,target):\r\n",
        "  perm_features = list(combinations(features, 2))\r\n",
        "  fig, axes = plt.subplots(len(perm_features),1,figsize=(10,len(perm_features)*10))\r\n",
        "  \r\n",
        "  for i, perm in enumerate(perm_features):\r\n",
        "        sns.stripplot(ax=axes[i],data=Dataset,x=perm[0],y=perm[1], hue=target)\r\n",
        "  plt.show()"
      ],
      "id": "WbhIkTeYJSTc",
      "execution_count": null,
      "outputs": []
    },
    {
      "cell_type": "code",
      "metadata": {
        "id": "zW_KwiktHDZU"
      },
      "source": [
        "subplot_strip(balance_produtor,features,'estudio') # in-out = categórico-categórico"
      ],
      "id": "zW_KwiktHDZU",
      "execution_count": null,
      "outputs": []
    },
    {
      "cell_type": "code",
      "metadata": {
        "id": "yy9GWQum67n0"
      },
      "source": [
        "plt.figure(figsize=(20, 10))\r\n",
        "sns.pairplot(data=df, hue='genero') # in-out= numérico-categórico(genero)\r\n",
        "sns.pairplot(data=df) # in-out= numérico-numerico(rate)"
      ],
      "id": "yy9GWQum67n0",
      "execution_count": null,
      "outputs": []
    },
    {
      "cell_type": "markdown",
      "metadata": {
        "id": "6MVOICJf1wCT"
      },
      "source": [
        "## Removendo features com baixa correlação com target"
      ],
      "id": "6MVOICJf1wCT"
    },
    {
      "cell_type": "code",
      "metadata": {
        "id": "rCMvIA032Awo"
      },
      "source": [
        "df_v2 = df[[]] "
      ],
      "id": "rCMvIA032Awo",
      "execution_count": null,
      "outputs": []
    },
    {
      "cell_type": "markdown",
      "metadata": {
        "id": "h_akAFh_WVsb"
      },
      "source": [
        "## Exportando dataframe como csv"
      ],
      "id": "h_akAFh_WVsb"
    },
    {
      "cell_type": "code",
      "metadata": {
        "id": "gamH8mCJWTWe"
      },
      "source": [
        "df.to_csv('musicas.csv', sep=',', index=False)"
      ],
      "id": "gamH8mCJWTWe",
      "execution_count": null,
      "outputs": []
    }
  ]
}